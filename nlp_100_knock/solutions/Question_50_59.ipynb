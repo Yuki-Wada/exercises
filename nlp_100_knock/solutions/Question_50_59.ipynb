{
 "cells": [
  {
   "cell_type": "code",
   "execution_count": 1,
   "metadata": {},
   "outputs": [
    {
     "name": "stdout",
     "output_type": "stream",
     "text": [
      "/mnt/i/Yuki/workspace/exercises/nlp_100_knock\n"
     ]
    }
   ],
   "source": [
    "%cd /mnt/i/Yuki/workspace/exercises/nlp_100_knock"
   ]
  },
  {
   "cell_type": "markdown",
   "metadata": {},
   "source": [
    "https://nlp100.github.io/ja/ch06.html"
   ]
  },
  {
   "cell_type": "markdown",
   "metadata": {},
   "source": [
    "# 準備"
   ]
  },
  {
   "cell_type": "code",
   "execution_count": 2,
   "metadata": {},
   "outputs": [],
   "source": [
    "import itertools\n",
    "import collections\n",
    "from copy import deepcopy\n",
    "import numpy as np\n",
    "import pandas as pd\n",
    "import matplotlib.pyplot as plt"
   ]
  },
  {
   "cell_type": "code",
   "execution_count": 3,
   "metadata": {},
   "outputs": [],
   "source": [
    "data_path = 'Question_50_59/news_aggregator_data_set/newsCorpora.csv'\n",
    "train_data_path = 'Question_50_59/news_aggregator_data_set/train.txt'\n",
    "valid_data_path = 'Question_50_59/news_aggregator_data_set/valid.txt'\n",
    "test_data_path = 'Question_50_59/news_aggregator_data_set/test.txt'"
   ]
  },
  {
   "cell_type": "code",
   "execution_count": 4,
   "metadata": {
    "scrolled": true
   },
   "outputs": [],
   "source": [
    "data = []\n",
    "with open(data_path, 'r') as f:\n",
    "    for line in f.readlines():\n",
    "        data.append(line.split('\\t'))\n",
    "\n",
    "columns = [\n",
    "    'ID',\n",
    "    'TITLE',\n",
    "    'URL',\n",
    "    'PUBLISHER',\n",
    "    'CATEGORY',\n",
    "    'STORY',\n",
    "    'HOSTNAME',\n",
    "    'TIMESTAMP',\n",
    "]\n",
    "\n",
    "data_table = pd.DataFrame(data, columns=columns)"
   ]
  },
  {
   "cell_type": "markdown",
   "metadata": {},
   "source": [
    "# 問題"
   ]
  },
  {
   "cell_type": "markdown",
   "metadata": {},
   "source": [
    "## 50. データの入手・整形"
   ]
  },
  {
   "cell_type": "code",
   "execution_count": 5,
   "metadata": {
    "scrolled": true
   },
   "outputs": [],
   "source": [
    "publishers_to_use = [\n",
    "    'Reuters',\n",
    "    'Huffington Post',\n",
    "    'Businessweek',\n",
    "    'Contactmusic.com',\n",
    "    'Daily Mail',\n",
    "]\n",
    "\n",
    "extracted = data_table[data_table['PUBLISHER'].isin(publishers_to_use)].reset_index(drop=True)\n",
    "extracted['CATEGORY'] = extracted['CATEGORY'].replace({\n",
    "    'b': 'business',\n",
    "    't': 'science technology',\n",
    "    'e': 'entertainment',\n",
    "    'm': 'health',\n",
    "})\n",
    "\n",
    "data_count = len(extracted)\n",
    "train_data_count = int(data_count * 0.8)\n",
    "valid_data_count = int(data_count * 0.1)\n",
    "test_data_count = data_count - train_data_count - valid_data_count\n",
    "\n",
    "extracted = extracted.loc[np.random.permutation(data_count).tolist()]\n",
    "extracted = extracted[['TITLE', 'CATEGORY']]\n",
    "train_data = extracted.iloc[:train_data_count].reset_index(drop=True)\n",
    "valid_data = extracted.iloc[train_data_count:train_data_count + valid_data_count].reset_index(drop=True)\n",
    "test_data = extracted.iloc[train_data_count + valid_data_count:].reset_index(drop=True)"
   ]
  },
  {
   "cell_type": "code",
   "execution_count": 6,
   "metadata": {
    "scrolled": true
   },
   "outputs": [],
   "source": [
    "train_data.to_csv(train_data_path, encoding='utf8', index=False, sep='\\t')\n",
    "valid_data.to_csv(valid_data_path, encoding='utf8', index=False, sep='\\t')\n",
    "test_data.to_csv(test_data_path, encoding='utf8', index=False, sep='\\t')"
   ]
  },
  {
   "cell_type": "code",
   "execution_count": 7,
   "metadata": {},
   "outputs": [
    {
     "name": "stdout",
     "output_type": "stream",
     "text": [
      "Train Data Count: 10684\n",
      "Valid Data Count: 1335\n",
      "Test Data Count: 1337\n"
     ]
    }
   ],
   "source": [
    "print(f'Train Data Count: {len(train_data)}')\n",
    "print(f'Valid Data Count: {len(valid_data)}')\n",
    "print(f'Test Data Count: {len(test_data)}')"
   ]
  },
  {
   "cell_type": "markdown",
   "metadata": {},
   "source": [
    "## 51. 特徴量抽出"
   ]
  },
  {
   "cell_type": "code",
   "execution_count": 8,
   "metadata": {},
   "outputs": [],
   "source": [
    "class TextVectorizer:\n",
    "    def __init__(self):\n",
    "        self.counter = collections.Counter()\n",
    "\n",
    "    def register(self, documents):\n",
    "        self.counter.update(itertools.chain.from_iterable(documents))\n",
    "        tokens, _ = list(zip(*sorted(self.counter.items(), key=lambda x: x[1], reverse=True)))\n",
    "        self.token_to_index = dict((token, i) for i, token in enumerate(tokens))\n",
    "        self.index_to_token = dict(enumerate(tokens))\n",
    "\n",
    "    def get_index(self, token):\n",
    "        return self.token_to_index[token]\n",
    "\n",
    "    def get_document_index(self, documents, max_token=500):\n",
    "        values = np.zeros((len(documents), max_token))\n",
    "        for i, doc in enumerate(documents):\n",
    "            for token in doc:\n",
    "                if token in self.token_to_index and self.token_to_index[token] < max_token:\n",
    "                    values[i, self.token_to_index[token]] += 1\n",
    "\n",
    "        return values\n",
    "\n",
    "    def get_token(self, index):\n",
    "        return self.index_to_token[index]"
   ]
  },
  {
   "cell_type": "code",
   "execution_count": 9,
   "metadata": {},
   "outputs": [],
   "source": [
    "train_documents = [text.split() for text in train_data['TITLE'].tolist()]\n",
    "valid_documents = [text.split() for text in valid_data['TITLE'].tolist()]\n",
    "test_documents = [text.split() for text in test_data['TITLE'].tolist()]\n",
    "\n",
    "tv = TextVectorizer()\n",
    "tv.register(test_documents)\n",
    "\n",
    "train_X = tv.get_document_index(train_documents, 200)\n",
    "valid_X = tv.get_document_index(valid_documents, 200)\n",
    "test_X = tv.get_document_index(test_documents, 200)"
   ]
  },
  {
   "cell_type": "code",
   "execution_count": 10,
   "metadata": {
    "scrolled": true
   },
   "outputs": [],
   "source": [
    "category_to_label = TextVectorizer()\n",
    "category_to_label.register([train_data['CATEGORY'].tolist()])\n",
    "\n",
    "train_y = np.array([category_to_label.get_index(category) for category in train_data['CATEGORY'].tolist()])\n",
    "valid_y = np.array([category_to_label.get_index(category) for category in valid_data['CATEGORY'].tolist()])\n",
    "test_y = np.array([category_to_label.get_index(category) for category in test_data['CATEGORY'].tolist()])"
   ]
  },
  {
   "cell_type": "markdown",
   "metadata": {},
   "source": [
    "train_X = np.random.randn(100, 200)\n",
    "train_y = np.random.randint(0, 5, 100)\n",
    "\n",
    "valid_X = np.random.randn(100, 200)\n",
    "valid_y = np.random.randint(0, 5, 100)\n",
    "\n",
    "test_X = np.random.randn(100, 200)\n",
    "test_y = np.random.randint(0, 5, 100)"
   ]
  },
  {
   "cell_type": "code",
   "execution_count": 11,
   "metadata": {},
   "outputs": [],
   "source": [
    "train_data_count = train_X.shape[0]\n",
    "valid_data_count = valid_X.shape[0]\n",
    "test_data_count = test_X.shape[0]\n",
    "\n",
    "feature_dim = train_X.shape[1]\n",
    "label_count = 4"
   ]
  },
  {
   "cell_type": "markdown",
   "metadata": {},
   "source": [
    "## 52. 学習"
   ]
  },
  {
   "cell_type": "code",
   "execution_count": 12,
   "metadata": {},
   "outputs": [],
   "source": [
    "def sigmoid(x):\n",
    "    return 1 / (1 + np.exp(-x))\n",
    "\n",
    "def softmax(x, axis=1):\n",
    "    h = np.exp(x - np.max(x, axis=axis, keepdims=True))\n",
    "    return h / np.sum(h, axis=axis, keepdims=True)\n",
    "\n",
    "class logistic_regression_model:\n",
    "    def __init__(self, input_dim, output_dim, reg_lambda=0):\n",
    "        self.output_dim = output_dim\n",
    "        self.reg_lambda = reg_lambda\n",
    "        self.W = np.random.randn(input_dim, self.output_dim)\n",
    "        self.b = np.random.randn(self.output_dim)\n",
    "\n",
    "    def train(self, X, y):\n",
    "        self.X = X.copy()\n",
    "        self.z = softmax(np.matmul(X, self.W) + self.b)\n",
    "        self.y = y.copy()\n",
    "\n",
    "        return self.z.copy()\n",
    "    \n",
    "    def backward(self, lr=1e-2):\n",
    "        grad_out = (self.z - np.eye(self.output_dim)[self.y]) / self.X.shape[0]\n",
    "        grad_W = np.matmul(self.X.T, grad_out) - self.W * self.reg_lambda / self.X.shape[0]\n",
    "        grad_b = np.sum(grad_out, axis=0)\n",
    "        \n",
    "        self.W -= lr * grad_W\n",
    "        self.b -= lr * grad_b\n",
    "    \n",
    "    def predict(self, X):\n",
    "        return softmax(np.matmul(X, self.W) + self.b)"
   ]
  },
  {
   "cell_type": "code",
   "execution_count": 13,
   "metadata": {},
   "outputs": [],
   "source": [
    "model = logistic_regression_model(feature_dim, label_count, reg_lambda=0)"
   ]
  },
  {
   "cell_type": "code",
   "execution_count": 14,
   "metadata": {},
   "outputs": [],
   "source": [
    "epochs = []\n",
    "accuracies = []\n",
    "for epoch in range(10000):\n",
    "    probs = model.train(train_X, train_y)\n",
    "    model.backward(lr=1e-1)\n",
    "    \n",
    "    if (epoch + 1) % 100 == 0:\n",
    "        preds = np.argmax(probs, axis=1)\n",
    "        correct_count = np.sum(train_y == preds)\n",
    "        accuracies.append(correct_count / train_y.shape[0])\n",
    "        epochs.append(epoch + 1)"
   ]
  },
  {
   "cell_type": "code",
   "execution_count": 15,
   "metadata": {},
   "outputs": [
    {
     "data": {
      "image/png": "[encoded data removed]",
      "text/plain": [
       "<Figure size 432x288 with 1 Axes>"
      ]
     },
     "metadata": {
      "needs_background": "light"
     },
     "output_type": "display_data"
    }
   ],
   "source": [
    "plt.plot(epochs, accuracies, label='train')\n",
    "plt.legend()\n",
    "\n",
    "plt.show()"
   ]
  },
  {
   "cell_type": "markdown",
   "metadata": {},
   "source": [
    "## 53. 予測"
   ]
  },
  {
   "cell_type": "code",
   "execution_count": 16,
   "metadata": {},
   "outputs": [
    {
     "data": {
      "text/plain": [
       "array([[0.01782046, 0.94433415, 0.02491498, 0.01293042],\n",
       "       [0.48019731, 0.46292605, 0.01939805, 0.03747859],\n",
       "       [0.76567608, 0.08744043, 0.10754351, 0.03933998],\n",
       "       ...,\n",
       "       [0.68862904, 0.1480524 , 0.09206321, 0.07125535],\n",
       "       [0.91591528, 0.01117525, 0.00666967, 0.06623979],\n",
       "       [0.98118853, 0.01415721, 0.0011843 , 0.00346996]])"
      ]
     },
     "execution_count": 16,
     "metadata": {},
     "output_type": "execute_result"
    }
   ],
   "source": [
    "probs = model.predict(test_X)\n",
    "probs"
   ]
  },
  {
   "cell_type": "markdown",
   "metadata": {},
   "source": [
    "## 54. 正解率の計測"
   ]
  },
  {
   "cell_type": "code",
   "execution_count": 17,
   "metadata": {},
   "outputs": [
    {
     "name": "stdout",
     "output_type": "stream",
     "text": [
      "Accuracy: 73.56 % (7859/10684)\n"
     ]
    }
   ],
   "source": [
    "probs = model.predict(train_X)\n",
    "preds = np.argmax(probs, axis=1)\n",
    "correct_count = np.sum(train_y == preds)\n",
    "\n",
    "print(f'Accuracy: {correct_count / train_y.shape[0] * 100:.2f} % ({correct_count}/{train_y.shape[0]})')"
   ]
  },
  {
   "cell_type": "code",
   "execution_count": 18,
   "metadata": {},
   "outputs": [
    {
     "name": "stdout",
     "output_type": "stream",
     "text": [
      "Accuracy: 72.40 % (968/1337)\n"
     ]
    }
   ],
   "source": [
    "probs = model.predict(test_X)\n",
    "preds = np.argmax(probs, axis=1)\n",
    "correct_count = np.sum(test_y == preds)\n",
    "\n",
    "print(f'Accuracy: {correct_count / test_y.shape[0] * 100:.2f} % ({correct_count}/{test_y.shape[0]})')"
   ]
  },
  {
   "cell_type": "markdown",
   "metadata": {},
   "source": [
    "## 55. 混同行列の作成"
   ]
  },
  {
   "cell_type": "code",
   "execution_count": 19,
   "metadata": {},
   "outputs": [
    {
     "data": {
      "text/plain": [
       "array([[4000,  419,   52,   20],\n",
       "       [ 568, 3601,   51,   29],\n",
       "       [ 592,  369,  220,   26],\n",
       "       [ 354,  308,   37,   38]])"
      ]
     },
     "execution_count": 19,
     "metadata": {},
     "output_type": "execute_result"
    }
   ],
   "source": [
    "probs = model.predict(train_X)\n",
    "preds = np.argmax(probs, axis=1)\n",
    "correct_count = np.sum(train_y == preds)\n",
    "\n",
    "train_cm = np.zeros((label_count, label_count), dtype=np.int)\n",
    "for true, pred in zip(train_y, preds):\n",
    "    train_cm[true, pred] += 1\n",
    "train_cm"
   ]
  },
  {
   "cell_type": "code",
   "execution_count": 20,
   "metadata": {},
   "outputs": [
    {
     "data": {
      "text/plain": [
       "array([[486,  61,   9,   2],\n",
       "       [ 78, 435,   8,   5],\n",
       "       [ 67,  47,  42,   5],\n",
       "       [ 43,  42,   2,   5]])"
      ]
     },
     "execution_count": 20,
     "metadata": {},
     "output_type": "execute_result"
    }
   ],
   "source": [
    "probs = model.predict(test_X)\n",
    "preds = np.argmax(probs, axis=1)\n",
    "correct_count = np.sum(test_y == preds)\n",
    "\n",
    "test_cm = np.zeros((label_count, label_count), dtype=np.int)\n",
    "for true, pred in zip(test_y, preds):\n",
    "    test_cm[true, pred] += 1\n",
    "test_cm"
   ]
  },
  {
   "cell_type": "markdown",
   "metadata": {},
   "source": [
    "## 56. 適合率，再現率，F1スコアの計測"
   ]
  },
  {
   "cell_type": "code",
   "execution_count": 21,
   "metadata": {
    "scrolled": true
   },
   "outputs": [
    {
     "name": "stdout",
     "output_type": "stream",
     "text": [
      "Label 0\n",
      "Recall: 0.8710\n",
      "Precision: 0.7211\n",
      "F-Value: 0.7890\n",
      "\n",
      "Label 1\n",
      "Recall: 0.8270\n",
      "Precision: 0.7436\n",
      "F-Value: 0.7831\n",
      "\n",
      "Label 2\n",
      "Recall: 0.2609\n",
      "Precision: 0.6885\n",
      "F-Value: 0.3784\n",
      "\n",
      "Label 3\n",
      "Recall: 0.0543\n",
      "Precision: 0.2941\n",
      "F-Value: 0.0917\n",
      "\n",
      "Macro Average\n",
      "Recall: 0.5033\n",
      "Precision: 0.6118\n",
      "F-Value: 0.5105\n"
     ]
    }
   ],
   "source": [
    "recall = np.sum(np.eye(label_count) * test_cm, axis=1) / (np.sum(test_cm, axis=1) + 1e-18)\n",
    "precision = np.sum(np.eye(label_count) * test_cm, axis=0) / (np.sum(test_cm, axis=0) + 1e-18)\n",
    "fvalue = 2 * recall * precision / (recall + precision + 1e-18)\n",
    "\n",
    "for i in range(label_count):\n",
    "    print(f'Label {i}')\n",
    "    print(f'Recall: {recall[i]:.4f}')\n",
    "    print(f'Precision: {precision[i]:.4f}')\n",
    "    print(f'F-Value: {fvalue[i]:.4f}')\n",
    "    print()\n",
    "\n",
    "print('Macro Average')\n",
    "print(f'Recall: {np.mean(recall):.4f}')\n",
    "print(f'Precision: {np.mean(precision):.4f}')\n",
    "print(f'F-Value: {np.mean(fvalue):.4f}')"
   ]
  },
  {
   "cell_type": "markdown",
   "metadata": {},
   "source": [
    "## 57. 特徴量の重みの確認"
   ]
  },
  {
   "cell_type": "code",
   "execution_count": 22,
   "metadata": {},
   "outputs": [
    {
     "name": "stdout",
     "output_type": "stream",
     "text": [
      "Largest 10 Feature of Label \"business\" : ['GLOBAL', 'near', 'Billion', 'FOREX-Euro', 'Rate', 'Outlook', 'top', 'bln', 'Euro', 'FOREX-Dollar']\n",
      "Smallest 10 Feature of Label \"business\" : ['Why', 'Ryan', 'Jennifer', 'that', 'Jay', \"'The\", 'And', 'Gwyneth', 'Simpson', 'A']\n",
      "\n",
      "Largest 10 Feature of Label \"entertainment\" : ['Michael', 'Chris', 'Kardashian', 'Met', 'Kanye', 'Justin', 'Kim', 'Music', 'Her', 'she']\n",
      "Smallest 10 Feature of Label \"entertainment\" : ['business', 'Fitch', 'that', 'Bank', 'ECB', 'Climate', 'ahead', 'Ukraine', 'Rates', 'May']\n",
      "\n",
      "Largest 10 Feature of Label \"science technology\" : ['Google', 'Music', 'Outlook', 'Climate', 'Chris', 'Apple', 'UN', 'Into', 'To', 'All']\n",
      "Smallest 10 Feature of Label \"science technology\" : ['Draghi', 'Simpson', 'strong', 'Why', 'His', 'IPO', 'fall', 'Ukraine', 'profit', 'UK']\n",
      "\n",
      "Largest 10 Feature of Label \"health\" : ['WRAPUP', 'June', 'Music', 'Harris', 'Life', 'have', 'set', 'are', 'lower', 'But']\n",
      "Smallest 10 Feature of Label \"health\" : ['Against', 'Cyrus', 'Paltrow', 'David', 'GLOBAL', 'Apple', 'Bieber', 'Billion', 'All', 'Bank']\n",
      "\n"
     ]
    }
   ],
   "source": [
    "w_index = np.argsort(model.W, axis=0)[::-1]\n",
    "for i in range(label_count):\n",
    "    largest_tokens = [tv.get_token(idx) for idx in w_index[:10, i]]\n",
    "    smallest_tokens = [tv.get_token(idx) for idx in w_index[:-10-1:-1, i]]\n",
    "    print(f'Largest 10 Feature of Label \"{category_to_label.get_token(i)}\" : {largest_tokens}')\n",
    "    print(f'Smallest 10 Feature of Label \"{category_to_label.get_token(i)}\" : {smallest_tokens}')\n",
    "    print()"
   ]
  },
  {
   "cell_type": "markdown",
   "metadata": {},
   "source": [
    "## 58. 正則化パラメータの変更"
   ]
  },
  {
   "cell_type": "code",
   "execution_count": 23,
   "metadata": {},
   "outputs": [],
   "source": [
    "def get_accuracy(X, y):\n",
    "    probs = model.predict(X)\n",
    "    preds = np.argmax(probs, axis=1)\n",
    "    correct_count = np.sum(y == preds)\n",
    "    accuracy = correct_count / y.shape[0]\n",
    "    \n",
    "    return accuracy"
   ]
  },
  {
   "cell_type": "code",
   "execution_count": 24,
   "metadata": {},
   "outputs": [],
   "source": [
    "reg_lambdas = 0.1 ** (np.arange(6))\n",
    "train_accuracies = []\n",
    "valid_accuracies = []\n",
    "test_accuracies = []\n",
    "for reg_lambda in reg_lambdas:\n",
    "    model = logistic_regression_model(feature_dim, label_count, reg_lambda=reg_lambda)\n",
    "    for _ in range(10000):\n",
    "        model.train(train_X, train_y)\n",
    "        model.backward(lr=1e-1)\n",
    "\n",
    "    train_accuracies.append(get_accuracy(train_X, train_y))\n",
    "    valid_accuracies.append(get_accuracy(valid_X, valid_y))\n",
    "    test_accuracies.append(get_accuracy(test_X, test_y))"
   ]
  },
  {
   "cell_type": "code",
   "execution_count": 25,
   "metadata": {
    "scrolled": true
   },
   "outputs": [
    {
     "data": {
      "image/png": "[encoded data removed]",
      "text/plain": [
       "<Figure size 432x288 with 1 Axes>"
      ]
     },
     "metadata": {
      "needs_background": "light"
     },
     "output_type": "display_data"
    }
   ],
   "source": [
    "plt.plot(reg_lambdas, train_accuracies, label='train')\n",
    "plt.plot(reg_lambdas, valid_accuracies, label='valid')\n",
    "plt.plot(reg_lambdas, test_accuracies, label='test')\n",
    "\n",
    "plt.xscale('log')\n",
    "plt.legend()\n",
    "\n",
    "plt.show()"
   ]
  },
  {
   "cell_type": "markdown",
   "metadata": {},
   "source": [
    "## 59. ハイパーパラメータの探索"
   ]
  },
  {
   "cell_type": "code",
   "execution_count": 26,
   "metadata": {},
   "outputs": [],
   "source": [
    "reg_lambdas = 0.1 ** (np.arange(6))\n",
    "\n",
    "best_score = None\n",
    "best_lambda = None\n",
    "best_model = None\n",
    "for reg_lambda in reg_lambdas:\n",
    "    model = logistic_regression_model(feature_dim, label_count, reg_lambda=reg_lambda)\n",
    "    for _ in range(10000):\n",
    "        model.train(train_X, train_y)\n",
    "        model.backward(lr=1e-1)\n",
    "\n",
    "    score = get_accuracy(train_X, train_y)\n",
    "    if best_score is None or best_score < score:\n",
    "        best_score = score\n",
    "        best_lambda = reg_lambda\n",
    "        best_model = deepcopy(model)"
   ]
  },
  {
   "cell_type": "code",
   "execution_count": 27,
   "metadata": {},
   "outputs": [
    {
     "name": "stdout",
     "output_type": "stream",
     "text": [
      "Best Lambda: 0.0010000000000000002\n",
      "Best Accuracy: 0.7379\n"
     ]
    }
   ],
   "source": [
    "print(f'Best Lambda: {best_lambda}')\n",
    "print(f'Best Accuracy: {best_score:.4f}')"
   ]
  },
  {
   "cell_type": "code",
   "execution_count": null,
   "metadata": {},
   "outputs": [],
   "source": []
  },
  {
   "cell_type": "code",
   "execution_count": null,
   "metadata": {},
   "outputs": [],
   "source": []
  },
  {
   "cell_type": "code",
   "execution_count": null,
   "metadata": {},
   "outputs": [],
   "source": []
  },
  {
   "cell_type": "code",
   "execution_count": null,
   "metadata": {},
   "outputs": [],
   "source": []
  },
  {
   "cell_type": "code",
   "execution_count": null,
   "metadata": {},
   "outputs": [],
   "source": []
  }
 ],
 "metadata": {
  "kernelspec": {
   "display_name": "nlp_100_knock",
   "language": "python",
   "name": "nlp_100_knock"
  },
  "language_info": {
   "codemirror_mode": {
    "name": "ipython",
    "version": 3
   },
   "file_extension": ".py",
   "mimetype": "text/x-python",
   "name": "python",
   "nbconvert_exporter": "python",
   "pygments_lexer": "ipython3",
   "version": "3.9.1"
  }
 },
 "nbformat": 4,
 "nbformat_minor": 4
}
